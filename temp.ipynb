{
 "cells": [
  {
   "cell_type": "code",
   "execution_count": 2,
   "id": "7968ec1b",
   "metadata": {},
   "outputs": [
    {
     "ename": "SyntaxError",
     "evalue": "(unicode error) 'unicodeescape' codec can't decode bytes in position 2-3: truncated \\UXXXXXXXX escape (3699152826.py, line 19)",
     "output_type": "error",
     "traceback": [
      "\u001b[1;36m  Cell \u001b[1;32mIn[2], line 19\u001b[1;36m\u001b[0m\n\u001b[1;33m    metadata = parse_metadata_pillow(\"C:\\Users\\Kazi\\Downloads\\dev_data\\dev_data\\DJI_20250424193216_0120_V.jpeg\")\u001b[0m\n\u001b[1;37m                                     ^\u001b[0m\n\u001b[1;31mSyntaxError\u001b[0m\u001b[1;31m:\u001b[0m (unicode error) 'unicodeescape' codec can't decode bytes in position 2-3: truncated \\UXXXXXXXX escape\n"
     ]
    }
   ],
   "source": [
    "from PIL import Image\n",
    "from PIL.ExifTags import TAGS\n",
    "\n",
    "def parse_metadata_pillow(image_path):\n",
    "    image = Image.open(image_path)\n",
    "    exif_data = image._getexif()\n",
    "    \n",
    "    if not exif_data:\n",
    "        return {}\n",
    "\n",
    "    metadata = {}\n",
    "    for tag_id, value in exif_data.items():\n",
    "        tag = TAGS.get(tag_id, tag_id)\n",
    "        metadata[tag] = value\n",
    "\n",
    "    return metadata\n",
    "\n",
    "# Example usage\n",
    "metadata = parse_metadata_pillow(\"C:\\Users\\Kazi\\Downloads\\dev_data\\dev_data\\DJI_20250424193216_0120_V.jpeg\")\n",
    "for k, v in metadata.items():\n",
    "    print(f\"{k}: {v}\")"
   ]
  }
 ],
 "metadata": {
  "kernelspec": {
   "display_name": "base",
   "language": "python",
   "name": "python3"
  },
  "language_info": {
   "codemirror_mode": {
    "name": "ipython",
    "version": 3
   },
   "file_extension": ".py",
   "mimetype": "text/x-python",
   "name": "python",
   "nbconvert_exporter": "python",
   "pygments_lexer": "ipython3",
   "version": "3.12.3"
  }
 },
 "nbformat": 4,
 "nbformat_minor": 5
}
